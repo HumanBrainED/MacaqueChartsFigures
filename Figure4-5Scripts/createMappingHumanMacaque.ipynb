{
 "cells": [
  {
   "cell_type": "code",
   "execution_count": 2,
   "metadata": {},
   "outputs": [],
   "source": [
    "## Create JSON that maps macaque vertex to macaque parcellation, human parcellation and vertex\n",
    "## Load in everything required\n",
    "import nibabel as nib\n",
    "import numpy as np\n",
    "import json\n",
    "LMarkov = nib.load(\"../../../Atlas/alignment_macaque-human/cross-species_parcellation/L.Markov.monkey.10k_fs_LR.label.gii\").agg_data()\n",
    "LAparc = nib.load(\"../../../Atlas/aparc/fs_LR.aparc.L.10k.func.gii\").agg_data()\n",
    "LMarkovHuman = nib.load(\"../../../Atlas/alignment_macaque-human/cross-species_parcellation/L.Markov.monkey-to-human.10k_fs_LR.label.gii\").agg_data()\n",
    "LAparcMonkey = nib.load(\"../../../Atlas/alignment_macaque-human/cross-species_parcellation/L.Aparc.human-to-monkey.10k_fs_LR.func.gii\").agg_data()\n",
    "aparcJSON = \"../../../data_v2.0/demographics/aparc_order.json\"\n",
    "markovJSON = \"../../../data_v2.0/demographics/markov_order.json\"\n",
    "with open(aparcJSON, 'r') as file:\n",
    "    aparcOrder = json.load(file)\n",
    "\n",
    "with open(markovJSON, 'r') as file:\n",
    "    markovOrder = json.load(file)\n",
    "aparcOrder['unknown'] = 0\n",
    "markovOrder['unknown'] = 0"
   ]
  },
  {
   "cell_type": "code",
   "execution_count": 3,
   "metadata": {},
   "outputs": [],
   "source": [
    "## Create markov JSON\n",
    "monkey_to_human_dict_list = []\n",
    "for index, label in enumerate(LMarkov):\n",
    "    dict = {}\n",
    "    dict['MarkovLabel'] = int(label)\n",
    "    dict['MarkovName'] = list(markovOrder.keys())[list(markovOrder.values()).index(label)]\n",
    "    dict['AparcLabel'] = int(LAparcMonkey[index])\n",
    "    dict['AparcName'] = list(aparcOrder.keys())[list(aparcOrder.values()).index(LAparcMonkey[index])]\n",
    "    monkey_to_human_dict_list.append(dict)\n",
    "\n",
    "human_to_monkey_dict_list = []\n",
    "for index, label in enumerate(LAparc):\n",
    "    dict = {}\n",
    "    dict['AparcLabel'] = int(label)\n",
    "    dict['AparcName'] = list(aparcOrder.keys())[list(aparcOrder.values()).index(label)]\n",
    "    dict['MarkovLabel'] = int(LMarkovHuman[index])\n",
    "    dict['MarkovName'] = list(markovOrder.keys())[list(markovOrder.values()).index(LMarkovHuman[index])]\n",
    "    human_to_monkey_dict_list.append(dict)\n",
    "\n",
    "with open('monkey_to_human_mapping.json', 'w') as f:\n",
    "    json.dump(monkey_to_human_dict_list, f, indent=2)\n",
    "with open('human_to_monkey_mapping.json', 'w') as f:\n",
    "    json.dump(human_to_monkey_dict_list, f, indent=2)"
   ]
  },
  {
   "cell_type": "code",
   "execution_count": 14,
   "metadata": {},
   "outputs": [],
   "source": [
    "## Find which unique labels in markov-human map to which aparc labels\n",
    "markovToAparcMapping = np.zeros(len(np.unique(LMarkovHuman)))\n",
    "for index, label in enumerate(np.unique(LMarkovHuman)):\n",
    "    indicesForLabel = np.where(LMarkovHuman == label)\n",
    "    aparcArray = LAparc[indicesForLabel]\n",
    "    counts = np.bincount(aparcArray)\n",
    "    mostCommon = np.argmax(counts)\n",
    "    markovToAparcMapping[index] = mostCommon"
   ]
  },
  {
   "cell_type": "code",
   "execution_count": 15,
   "metadata": {},
   "outputs": [
    {
     "data": {
      "text/plain": [
       "array([ 0., 22., 22., 22., 22., 28., 14., 12., 12., 12., 14., 25., 26.,\n",
       "       17., 14., 18.,  2.,  2., 28., 28., 23., 20., 20., 27., 27., 31.,\n",
       "       31., 17., 31., 27., 27., 27., 27., 27., 20., 31., 30., 29.,  0.,\n",
       "       24., 28., 28., 24., 18., 28., 27., 15., 20., 35., 15., 30., 29.,\n",
       "       30., 29., 31.,  8., 14., 12., 30., 30., 30.,  0., 15., 29.,  0.,\n",
       "       20., 10., 22., 31., 30., 15.,  0.,  6.,  9.,  9.,  6.,  0.,  7.,\n",
       "       11.,  7., 16., 16., 31., 21., 25., 13., 29., 11.,  8., 25., 25.,\n",
       "       29.])"
      ]
     },
     "execution_count": 15,
     "metadata": {},
     "output_type": "execute_result"
    }
   ],
   "source": [
    "markovToAparcMapping"
   ]
  },
  {
   "cell_type": "code",
   "execution_count": null,
   "metadata": {},
   "outputs": [],
   "source": []
  }
 ],
 "metadata": {
  "kernelspec": {
   "display_name": "Python 3",
   "language": "python",
   "name": "python3"
  },
  "language_info": {
   "codemirror_mode": {
    "name": "ipython",
    "version": 3
   },
   "file_extension": ".py",
   "mimetype": "text/x-python",
   "name": "python",
   "nbconvert_exporter": "python",
   "pygments_lexer": "ipython3",
   "version": "3.10.5"
  }
 },
 "nbformat": 4,
 "nbformat_minor": 2
}
